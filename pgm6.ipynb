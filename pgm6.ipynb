{
  "nbformat": 4,
  "nbformat_minor": 0,
  "metadata": {
    "colab": {
      "provenance": [],
      "authorship_tag": "ABX9TyOKB7IenKeW5v8E0uLI5cdG",
      "include_colab_link": true
    },
    "kernelspec": {
      "name": "python3",
      "display_name": "Python 3"
    },
    "language_info": {
      "name": "python"
    }
  },
  "cells": [
    {
      "cell_type": "markdown",
      "metadata": {
        "id": "view-in-github",
        "colab_type": "text"
      },
      "source": [
        "<a href=\"https://colab.research.google.com/github/Amalendukm/DS-ML/blob/main/pgm6.ipynb\" target=\"_parent\"><img src=\"https://colab.research.google.com/assets/colab-badge.svg\" alt=\"Open In Colab\"/></a>"
      ]
    },
    {
      "cell_type": "code",
      "execution_count": 10,
      "metadata": {
        "colab": {
          "base_uri": "https://localhost:8080/"
        },
        "id": "Ds1H1S4gwXGJ",
        "outputId": "bdaf45ce-0be7-43ad-f093-ccf5ee82fcc6"
      },
      "outputs": [
        {
          "output_type": "stream",
          "name": "stdout",
          "text": [
            "0.6883116883116883\n",
            "confusion matrix: In [[72 27]\n",
            " [21 34]]\n",
            "Classification Report \n",
            "                precision    recall  f1-score   support\n",
            "\n",
            "           0       0.77      0.73      0.75        99\n",
            "           1       0.56      0.62      0.59        55\n",
            "\n",
            "    accuracy                           0.69       154\n",
            "   macro avg       0.67      0.67      0.67       154\n",
            "weighted avg       0.70      0.69      0.69       154\n",
            "\n"
          ]
        }
      ],
      "source": [
        "from sklearn.neighbors import KNeighborsClassifier\n",
        "from sklearn.model_selection import train_test_split\n",
        "\n",
        "import pandas as pd\n",
        "df=pd.read_csv(\"./diabetes.csv\")\n",
        "df.head()\n",
        "X=df.drop(\"Outcome\",axis=1)\n",
        "y=df[\"Outcome\"]\n",
        "X_train, X_test, y_train, y_test= train_test_split(X, y, test_size = 0.2, random_state=42)\n",
        "knn = KNeighborsClassifier (n_neighbors=7)\n",
        "knn.fit(X_train,y_train)\n",
        "y_pred=knn.predict(X_test)\n",
        "from sklearn.metrics import accuracy_score\n",
        "a =accuracy_score(y_test,y_pred)\n",
        "print(ac)\n",
        "from sklearn.metrics import confusion_matrix\n",
        "from sklearn.metrics import classification_report\n",
        "matrix = confusion_matrix(y_test,y_pred)\n",
        "print(\"confusion matrix: In\",matrix)\n",
        "cr= classification_report(y_test,y_pred )\n",
        "print(\"Classification Report \\n \",cr)\n"
      ]
    },
    {
      "cell_type": "code",
      "source": [],
      "metadata": {
        "id": "rAZMHkvX1pHx"
      },
      "execution_count": null,
      "outputs": []
    },
    {
      "cell_type": "code",
      "source": [],
      "metadata": {
        "id": "6CPHOLLj1dAX"
      },
      "execution_count": null,
      "outputs": []
    }
  ]
}