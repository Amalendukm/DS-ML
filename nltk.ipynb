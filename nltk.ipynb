{
  "nbformat": 4,
  "nbformat_minor": 0,
  "metadata": {
    "colab": {
      "provenance": [],
      "authorship_tag": "ABX9TyMgQKum4cqzFPmzByLuT5qO",
      "include_colab_link": true
    },
    "kernelspec": {
      "name": "python3",
      "display_name": "Python 3"
    },
    "language_info": {
      "name": "python"
    }
  },
  "cells": [
    {
      "cell_type": "markdown",
      "metadata": {
        "id": "view-in-github",
        "colab_type": "text"
      },
      "source": [
        "<a href=\"https://colab.research.google.com/github/Amalendukm/DS-ML/blob/main/nltk.ipynb\" target=\"_parent\"><img src=\"https://colab.research.google.com/assets/colab-badge.svg\" alt=\"Open In Colab\"/></a>"
      ]
    },
    {
      "cell_type": "code",
      "execution_count": 4,
      "metadata": {
        "id": "Wu28dBQ08yrA"
      },
      "outputs": [],
      "source": [
        "import nltk\n",
        "from nltk.corpus import stopwords\n",
        "from nltk.tokenize import word_tokenize, sent_tokenize\n"
      ]
    },
    {
      "cell_type": "code",
      "source": [
        "import nltk\n",
        "from nltk.corpus import stopwords\n",
        "from nltk.tokenize import word_tokenize, sent_tokenize\n",
        "#from nltk.corpus.reader import wordlist\n",
        "nltk.download('stopwords')\n",
        "nltk.download('punkt')\n",
        "nltk.download('averaged_perceptron_tagger')\n",
        "\n",
        "    "
      ],
      "metadata": {
        "colab": {
          "base_uri": "https://localhost:8080/"
        },
        "id": "TtGTuD3w9Tjx",
        "outputId": "5cba57e3-9d21-41d1-c08a-e4dfd0a2f9ef"
      },
      "execution_count": 17,
      "outputs": [
        {
          "output_type": "stream",
          "name": "stderr",
          "text": [
            "[nltk_data] Downloading package stopwords to /root/nltk_data...\n",
            "[nltk_data]   Package stopwords is already up-to-date!\n",
            "[nltk_data] Downloading package punkt to /root/nltk_data...\n",
            "[nltk_data]   Package punkt is already up-to-date!\n",
            "[nltk_data] Downloading package averaged_perceptron_tagger to\n",
            "[nltk_data]     /root/nltk_data...\n",
            "[nltk_data]   Package averaged_perceptron_tagger is already up-to-\n",
            "[nltk_data]       date!\n"
          ]
        },
        {
          "output_type": "execute_result",
          "data": {
            "text/plain": [
              "True"
            ]
          },
          "metadata": {},
          "execution_count": 17
        }
      ]
    },
    {
      "cell_type": "code",
      "source": [
        "stop_words=set(stopwords.words('english'))\n",
        "txt =\"Hello. MCA S3 is fantastic. We learn many new concepts and implement them in our practical exams.\"\\\n",
        "\"Ist of all the data science is a new paper.\"\n",
        "tokenized = sent_tokenize(txt)\n",
        "for i in tokenized:\n",
        "  wordsList=nltk.word_tokenize(i)\n",
        "  wordsList=[w for w in wordsList if not w in stop_words]\n",
        "  tagged=nltk.pos_tag(wordsList)\n",
        "  print(tagged)\n",
        "  "
      ],
      "metadata": {
        "colab": {
          "base_uri": "https://localhost:8080/"
        },
        "id": "dJeB4FVWBmfO",
        "outputId": "a762c29c-fcf0-403f-ba89-bdfcaac0b3f8"
      },
      "execution_count": 21,
      "outputs": [
        {
          "output_type": "stream",
          "name": "stdout",
          "text": [
            "[('Hello', 'NNP'), ('.', '.')]\n",
            "[('MCA', 'NNP'), ('S3', 'NNP'), ('fantastic', 'JJ'), ('.', '.')]\n",
            "[('We', 'PRP'), ('learn', 'VBP'), ('many', 'JJ'), ('new', 'JJ'), ('concepts', 'NNS'), ('implement', 'JJ'), ('practical', 'JJ'), ('exams.Ist', 'NN'), ('data', 'NNS'), ('science', 'NN'), ('new', 'JJ'), ('paper', 'NN'), ('.', '.')]\n"
          ]
        }
      ]
    },
    {
      "cell_type": "code",
      "source": [
        "def generate_N_grams(text,ngram=1):\n",
        "    words=[word for word in text.split(\" \") if word not in set(stopwords.words('english'))]\n",
        "    print(\"Sentence after removing stopwords:\",words)\n",
        "    temp=zip(*[words[i:]for i in range(0,ngram)])\n",
        "    ans=[''.join(ngram)for ngram in temp]\n",
        "    return ans\n",
        "\n",
        "    "
      ],
      "metadata": {
        "id": "UVoM54OrDobQ"
      },
      "execution_count": 26,
      "outputs": []
    },
    {
      "cell_type": "code",
      "source": [
        "generate_N_grams(\"The sun rises in the east\",2)\n",
        "    "
      ],
      "metadata": {
        "colab": {
          "base_uri": "https://localhost:8080/"
        },
        "id": "KYT32GMGDuiH",
        "outputId": "367e3745-44ba-40f0-87b5-67d7c100b709"
      },
      "execution_count": 27,
      "outputs": [
        {
          "output_type": "stream",
          "name": "stdout",
          "text": [
            "Sentence after removing stopwords: ['The', 'sun', 'rises', 'east']\n"
          ]
        },
        {
          "output_type": "execute_result",
          "data": {
            "text/plain": [
              "['Thesun', 'sunrises', 'riseseast']"
            ]
          },
          "metadata": {},
          "execution_count": 27
        }
      ]
    },
    {
      "cell_type": "code",
      "source": [
        "generate_N_grams(\"The sun rises in the east\",3)"
      ],
      "metadata": {
        "colab": {
          "base_uri": "https://localhost:8080/"
        },
        "id": "prw59qw5DyDn",
        "outputId": "273a7168-49a5-466c-c5db-1a76904ac641"
      },
      "execution_count": 28,
      "outputs": [
        {
          "output_type": "stream",
          "name": "stdout",
          "text": [
            "Sentence after removing stopwords: ['The', 'sun', 'rises', 'east']\n"
          ]
        },
        {
          "output_type": "execute_result",
          "data": {
            "text/plain": [
              "['Thesunrises', 'sunriseseast']"
            ]
          },
          "metadata": {},
          "execution_count": 28
        }
      ]
    },
    {
      "cell_type": "code",
      "source": [
        "generate_N_grams(\"The sun rises in the east\",4)"
      ],
      "metadata": {
        "colab": {
          "base_uri": "https://localhost:8080/"
        },
        "id": "RV7udjH1Fhh3",
        "outputId": "e9a4ee01-e27d-4e7b-df25-feae2cca7cdf"
      },
      "execution_count": 29,
      "outputs": [
        {
          "output_type": "stream",
          "name": "stdout",
          "text": [
            "Sentence after removing stopwords: ['The', 'sun', 'rises', 'east']\n"
          ]
        },
        {
          "output_type": "execute_result",
          "data": {
            "text/plain": [
              "['Thesunriseseast']"
            ]
          },
          "metadata": {},
          "execution_count": 29
        }
      ]
    }
  ]
}